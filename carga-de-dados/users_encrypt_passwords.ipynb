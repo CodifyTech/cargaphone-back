{
 "cells": [
  {
   "cell_type": "code",
   "execution_count": 1,
   "id": "fa32ebe3-b9aa-4da0-a46a-008bc5dd4e4d",
   "metadata": {
    "tags": []
   },
   "outputs": [
    {
     "name": "stdout",
     "output_type": "stream",
     "text": [
      "Defaulting to user installation because normal site-packages is not writeable\n",
      "Requirement already satisfied: pymssql in c:\\users\\ok\\appdata\\roaming\\python\\python311\\site-packages (2.2.7)\n",
      "Defaulting to user installation because normal site-packages is not writeable\n",
      "Requirement already satisfied: mysql-connector in c:\\users\\ok\\appdata\\roaming\\python\\python311\\site-packages (2.2.9)\n",
      "Defaulting to user installation because normal site-packages is not writeable\n",
      "Requirement already satisfied: pyodbc in c:\\users\\ok\\appdata\\roaming\\python\\python311\\site-packages (4.0.35)\n",
      "Defaulting to user installation because normal site-packages is not writeable\n",
      "Collecting bcrypt\n",
      "  Downloading bcrypt-4.0.1-cp36-abi3-win_amd64.whl (152 kB)\n",
      "     ---------------------------------------- 0.0/152.9 kB ? eta -:--:--\n",
      "     ------------------------------------- -- 143.4/152.9 kB 4.2 MB/s eta 0:00:01\n",
      "     ---------------------------------------- 152.9/152.9 kB 3.0 MB/s eta 0:00:00\n",
      "Installing collected packages: bcrypt\n",
      "Successfully installed bcrypt-4.0.1\n",
      "Note: you may need to restart the kernel to use updated packages.\n"
     ]
    },
    {
     "name": "stderr",
     "output_type": "stream",
     "text": [
      "\n",
      "[notice] A new release of pip is available: 23.0 -> 23.0.1\n",
      "[notice] To update, run: python.exe -m pip install --upgrade pip\n",
      "\n",
      "[notice] A new release of pip is available: 23.0 -> 23.0.1\n",
      "[notice] To update, run: python.exe -m pip install --upgrade pip\n",
      "\n",
      "[notice] A new release of pip is available: 23.0 -> 23.0.1\n",
      "[notice] To update, run: python.exe -m pip install --upgrade pip\n",
      "\n",
      "[notice] A new release of pip is available: 23.0 -> 23.0.1\n",
      "[notice] To update, run: python.exe -m pip install --upgrade pip\n"
     ]
    }
   ],
   "source": [
    "pip install pymssql && pip install mysql-connector && pip install pyodbc && pip install bcrypt"
   ]
  },
  {
   "cell_type": "code",
   "execution_count": 3,
   "id": "b9de829f",
   "metadata": {},
   "outputs": [
    {
     "name": "stdout",
     "output_type": "stream",
     "text": [
      "Hora:2023-02-27 13:55:03.893217\n",
      "iniciando\n",
      "$2b$12$Z/b/XJIIEyl6gXd8xqMKuukX8BCPZWBbKkQ/5NwkHMhmUxgmoEGGC'\n",
      "Loop: 1\n",
      "$2b$12$ew2U9gJEthqMaqWvkrqZvec8mJS8vUStaC9omF0wID0ZkKcgrWPG6'\n",
      "Loop: 2\n",
      "$2b$12$YDH5YGvtZU.Ik7F5WsBGpuazQ4uySn2tWvP9v36pEGcy.N.zWtXyW'\n",
      "Loop: 3\n",
      "$2b$12$4NNReQ.RtP4reXxTf38yaO2AYXVM31n/yWwxYO01b7MH7OyYglHgO'\n",
      "Loop: 4\n",
      "$2b$12$Z1T4cF3K4cEUW0/8Dfq9ouccB4.DHn/vKtAYs.VY0RkX4kJY17Ovi'\n",
      "Loop: 5\n",
      "$2b$12$jqw/bhFspws7MNrCpy76TehoYBr8hRpAVh1vMi1gWyNMWJh0/WSw2'\n",
      "Loop: 6\n",
      "$2b$12$Mw.hlXVkWaQwfqWgryGJ5eOX3jRpf2dTRv5ywVdPpzWPsLqAWbbcq'\n",
      "Loop: 7\n",
      "$2b$12$oT9BBaPnz5mEtNAFrZh.kOBAdyl9kgPCjglWUq31hKRErvI0qlZTG'\n",
      "Loop: 8\n",
      "$2b$12$qxLzyElxYEs97BM8jkqaEOWGLtoBNlpnj9yThAmU4dCRhsztCiEwW'\n",
      "Loop: 9\n",
      "$2b$12$cL2g980aG9f/wGYPi22CXO3ysArgKF9LQKjemFLlIiQwjPr0P0DVO'\n",
      "Loop: 10\n",
      "$2b$12$x1NHza0jrKvy8MK3L/oCw.B2jpRUQvY64fDjEb.ziTr5xA0ZbaTHC'\n",
      "Loop: 11\n",
      "$2b$12$wue7RbxFmhVOPPsspvXmmux0.oTqsR2SV5lIpm9rjgMXR3EhRIzTy'\n",
      "Loop: 12\n",
      "$2b$12$CYT9zVwtDgpx9sOF3W/1DuFgI8sXyvO5HxD4rQxWLbrR1umsyUqY6'\n",
      "Loop: 13\n",
      "$2b$12$N3hUhLqTcYwIc9Eb3boNfOKXKc3DLR0/jsCKqd1S9/5dQeNQUVcXq'\n",
      "Loop: 14\n",
      "$2b$12$b46nVuE/tdC8LEh.wfL4UeXDa80/osvLwGQSm4I1SwqmkeBgCc6za'\n",
      "Loop: 15\n",
      "$2b$12$LxoKIFraDhkoRs6iFeQsEep.FGN19usO3TQpbP1tVLzP8znonOPGu'\n",
      "Loop: 16\n",
      "$2b$12$plCWYETWVVH5sV.zyQKeru5FhqbcvG/KIi1yiq4PpV5YVxILcBKti'\n",
      "Loop: 17\n"
     ]
    },
    {
     "ename": "KeyboardInterrupt",
     "evalue": "",
     "output_type": "error",
     "traceback": [
      "\u001b[1;31m---------------------------------------------------------------------------\u001b[0m",
      "\u001b[1;31mKeyboardInterrupt\u001b[0m                         Traceback (most recent call last)",
      "Cell \u001b[1;32mIn[3], line 26\u001b[0m\n\u001b[0;32m     24\u001b[0m senha_antiga \u001b[39m=\u001b[39m usuario[\u001b[39m0\u001b[39m]\n\u001b[0;32m     25\u001b[0m id_usuario \u001b[39m=\u001b[39m usuario[\u001b[39m1\u001b[39m]\n\u001b[1;32m---> 26\u001b[0m pwd_hash \u001b[39m=\u001b[39m bcrypt\u001b[39m.\u001b[39;49mhashpw(senha_antiga\u001b[39m.\u001b[39;49mencode(\u001b[39m'\u001b[39;49m\u001b[39mutf8\u001b[39;49m\u001b[39m'\u001b[39;49m), bcrypt\u001b[39m.\u001b[39;49mgensalt())\n\u001b[0;32m     27\u001b[0m \u001b[39mtry\u001b[39;00m:\n\u001b[0;32m     28\u001b[0m     senha_criptografada \u001b[39m=\u001b[39m \u001b[39mstr\u001b[39m(pwd_hash)\u001b[39m.\u001b[39msplit(\u001b[39m\"\u001b[39m\u001b[39mb\u001b[39m\u001b[39m'\u001b[39m\u001b[39m\"\u001b[39m)\n",
      "File \u001b[1;32m~\\AppData\\Roaming\\Python\\Python311\\site-packages\\bcrypt\\__init__.py:84\u001b[0m, in \u001b[0;36mhashpw\u001b[1;34m(password, salt)\u001b[0m\n\u001b[0;32m     76\u001b[0m \u001b[39m# bcrypt originally suffered from a wraparound bug:\u001b[39;00m\n\u001b[0;32m     77\u001b[0m \u001b[39m# http://www.openwall.com/lists/oss-security/2012/01/02/4\u001b[39;00m\n\u001b[0;32m     78\u001b[0m \u001b[39m# This bug was corrected in the OpenBSD source by truncating inputs to 72\u001b[39;00m\n\u001b[0;32m     79\u001b[0m \u001b[39m# bytes on the updated prefix $2b$, but leaving $2a$ unchanged for\u001b[39;00m\n\u001b[0;32m     80\u001b[0m \u001b[39m# compatibility. However, pyca/bcrypt 2.0.0 *did* correctly truncate inputs\u001b[39;00m\n\u001b[0;32m     81\u001b[0m \u001b[39m# on $2a$, so we do it here to preserve compatibility with 2.0.0\u001b[39;00m\n\u001b[0;32m     82\u001b[0m password \u001b[39m=\u001b[39m password[:\u001b[39m72\u001b[39m]\n\u001b[1;32m---> 84\u001b[0m \u001b[39mreturn\u001b[39;00m _bcrypt\u001b[39m.\u001b[39;49mhashpass(password, salt)\n",
      "\u001b[1;31mKeyboardInterrupt\u001b[0m: "
     ]
    }
   ],
   "source": [
    "import pymssql\n",
    "import mysql.connector\n",
    "import pyodbc\n",
    "import uuid\n",
    "import bcrypt\n",
    "from datetime import datetime, date, time, timezone\n",
    "import re\n",
    "\n",
    "\n",
    "\n",
    "print('Hora:' + str(datetime.now()))\n",
    "print('iniciando')\n",
    "\n",
    "# Conectar ao MySQ\n",
    "\n",
    "mydb = pyodbc.connect(\n",
    "    'DRIVER={MySQL ODBC 8.0 ANSI Driver};User=b4f8033d37e8e8;Password=c4f88825;Server=us-cdbr-east-06.cleardb.net;Database=heroku_d67bbb63764a109;')\n",
    "cursor = mydb.cursor()\n",
    "query = 'select u.password, u.* from heroku_d67bbb63764a109.users u'\n",
    "cursor.execute(query)\n",
    "usuarios = cursor.fetchall()\n",
    "loop = 1\n",
    "for usuario in usuarios:\n",
    "    senha_antiga = usuario[0]\n",
    "    id_usuario = usuario[1]\n",
    "    pwd_hash = bcrypt.hashpw(senha_antiga.encode('utf8'), bcrypt.gensalt())\n",
    "    try:\n",
    "        senha_criptografada = str(pwd_hash).split(\"b'\")\n",
    "    except AttributeError:\n",
    "        print('algo deu errado')\n",
    "\n",
    "    update = f\"UPDATE users set password = '{senha_criptografada[1]} WHERE id = '{id_usuario}'\"\n",
    "    cursor.execute(update)\n",
    "    print('Loop: ' + str(loop))\n",
    "    loop += 1\n",
    "\n",
    "# Confirmar as alterações no MySQL\n",
    "mydb.commit()\n",
    "print('------------==== Finalizado ====------------')\n",
    "# Desconectar do MySQL\n",
    "mydb.close()\n"
   ]
  },
  {
   "cell_type": "code",
   "execution_count": 11,
   "metadata": {},
   "outputs": [
    {
     "name": "stdout",
     "output_type": "stream",
     "text": [
      "b'$2b$12$Sb0UfKSRb8LoXxshTYFUmuaOTpF/x.KI4YTUs9z/g7M9aFSkAzZEW'\n",
      "It Matches!\n"
     ]
    }
   ],
   "source": [
    "import bcrypt\n",
    "# password = b\"Senhatrocad@\"\n",
    "password = b'123456'\n",
    "# Hash a password for the first time, with a randomly-generated salt\n",
    "hashed = bcrypt.hashpw(password, bcrypt.gensalt())\n",
    "print(hashed)\n",
    "# Check that an unhashed password matches one that has previously been\n",
    "# hashed\n",
    "if bcrypt.checkpw(password, hashed):\n",
    "    print(\"It Matches!\")\n",
    "else:\n",
    "    print(\"It Does not Match :(\")\n"
   ]
  },
  {
   "cell_type": "code",
   "execution_count": null,
   "id": "ff253683",
   "metadata": {},
   "outputs": [],
   "source": []
  }
 ],
 "metadata": {
  "kernelspec": {
   "display_name": "Python 3",
   "language": "python",
   "name": "python3"
  },
  "language_info": {
   "codemirror_mode": {
    "name": "ipython",
    "version": 3
   },
   "file_extension": ".py",
   "mimetype": "text/x-python",
   "name": "python",
   "nbconvert_exporter": "python",
   "pygments_lexer": "ipython3",
   "version": "3.11.2"
  },
  "vscode": {
   "interpreter": {
    "hash": "5238573367df39f7286bb46f9ff5f08f63a01a80960060ce41e3c79b190280fa"
   }
  }
 },
 "nbformat": 4,
 "nbformat_minor": 5
}
